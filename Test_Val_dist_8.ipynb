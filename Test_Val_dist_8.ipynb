{
  "nbformat": 4,
  "nbformat_minor": 0,
  "metadata": {
    "colab": {
      "name": "Test_Val_dist_8.ipynb",
      "provenance": [],
      "include_colab_link": true
    },
    "kernelspec": {
      "name": "python3",
      "display_name": "Python 3"
    },
    "language_info": {
      "name": "python"
    },
    "accelerator": "GPU"
  },
  "cells": [
    {
      "cell_type": "markdown",
      "metadata": {
        "id": "view-in-github",
        "colab_type": "text"
      },
      "source": [
        "<a href=\"https://colab.research.google.com/github/Natolss/2_Gem/blob/main/Test_Val_dist_8.ipynb\" target=\"_parent\"><img src=\"https://colab.research.google.com/assets/colab-badge.svg\" alt=\"Open In Colab\"/></a>"
      ]
    },
    {
      "cell_type": "code",
      "execution_count": 1,
      "metadata": {
        "id": "6NtpM0V79EhY",
        "colab": {
          "base_uri": "https://localhost:8080/"
        },
        "outputId": "5cbe2f43-72a9-4d5d-e42b-8cc79346b70f"
      },
      "outputs": [
        {
          "output_type": "stream",
          "name": "stdout",
          "text": [
            "Mounted at /content/drive\n"
          ]
        }
      ],
      "source": [
        "from google.colab import drive\n",
        "drive.mount('/content/drive')"
      ]
    },
    {
      "cell_type": "code",
      "source": [
        "from zipfile import ZipFile\n",
        "file_name = \"/content/drive/MyDrive/pitts30k.zip\"\n",
        "\n",
        "with ZipFile(file_name, 'r') as zip:\n",
        "  zip.extractall()\n",
        "  print('Done')"
      ],
      "metadata": {
        "id": "30T0HiGw9F1o",
        "colab": {
          "base_uri": "https://localhost:8080/"
        },
        "outputId": "66b16807-9ffc-42b2-b372-8d70c451c895"
      },
      "execution_count": 2,
      "outputs": [
        {
          "output_type": "stream",
          "name": "stdout",
          "text": [
            "Done\n"
          ]
        }
      ]
    },
    {
      "cell_type": "code",
      "source": [
        "!mkdir pitts30k/pitts30k  #Create a new folder called pitts30k inside the already existing pitts30k\n",
        "!mv \"/content/pitts30k/images\" \"/content/pitts30k/pitts30k\" #The train file requires two folder named pitts30k"
      ],
      "metadata": {
        "id": "EYQ5TZJZ9Hjx"
      },
      "execution_count": 3,
      "outputs": []
    },
    {
      "cell_type": "code",
      "source": [
        "#package installation\n",
        "\n",
        "!pip install faiss_cpu==1.7.1\n",
        "!pip install numpy==1.19.4\n",
        "!pip install Pillow==8.4.0\n",
        "!pip install scikit_learn==1.0.1\n",
        "!pip install torch==1.7.0\n",
        "!pip install torchvision==0.8.1\n",
        "!pip install tqdm==4.48.2"
      ],
      "metadata": {
        "id": "fvRe2e5P9Jar",
        "colab": {
          "base_uri": "https://localhost:8080/",
          "height": 1000
        },
        "outputId": "32f58748-2bfe-448a-ad73-d3d04d2aa3ce"
      },
      "execution_count": 4,
      "outputs": [
        {
          "output_type": "stream",
          "name": "stdout",
          "text": [
            "Collecting faiss_cpu==1.7.1\n",
            "  Downloading faiss_cpu-1.7.1-cp37-cp37m-manylinux_2_17_x86_64.manylinux2014_x86_64.whl (8.4 MB)\n",
            "\u001b[K     |████████████████████████████████| 8.4 MB 25.6 MB/s \n",
            "\u001b[?25hInstalling collected packages: faiss-cpu\n",
            "Successfully installed faiss-cpu-1.7.1\n",
            "Collecting numpy==1.19.4\n",
            "  Downloading numpy-1.19.4-cp37-cp37m-manylinux2010_x86_64.whl (14.5 MB)\n",
            "\u001b[K     |████████████████████████████████| 14.5 MB 29.1 MB/s \n",
            "\u001b[?25hInstalling collected packages: numpy\n",
            "  Attempting uninstall: numpy\n",
            "    Found existing installation: numpy 1.19.5\n",
            "    Uninstalling numpy-1.19.5:\n",
            "      Successfully uninstalled numpy-1.19.5\n",
            "\u001b[31mERROR: pip's dependency resolver does not currently take into account all the packages that are installed. This behaviour is the source of the following dependency conflicts.\n",
            "datascience 0.10.6 requires folium==0.2.1, but you have folium 0.8.3 which is incompatible.\n",
            "albumentations 0.1.12 requires imgaug<0.2.7,>=0.2.5, but you have imgaug 0.2.9 which is incompatible.\u001b[0m\n",
            "Successfully installed numpy-1.19.4\n"
          ]
        },
        {
          "output_type": "display_data",
          "data": {
            "application/vnd.colab-display-data+json": {
              "pip_warning": {
                "packages": [
                  "numpy"
                ]
              }
            }
          },
          "metadata": {}
        },
        {
          "output_type": "stream",
          "name": "stdout",
          "text": [
            "Collecting Pillow==8.4.0\n",
            "  Downloading Pillow-8.4.0-cp37-cp37m-manylinux_2_17_x86_64.manylinux2014_x86_64.whl (3.1 MB)\n",
            "\u001b[?25l\r\u001b[K     |                                | 10 kB 36.8 MB/s eta 0:00:01\r\u001b[K     |▏                               | 20 kB 43.8 MB/s eta 0:00:01\r\u001b[K     |▎                               | 30 kB 46.1 MB/s eta 0:00:01\r\u001b[K     |▍                               | 40 kB 49.4 MB/s eta 0:00:01\r\u001b[K     |▌                               | 51 kB 37.2 MB/s eta 0:00:01\r\u001b[K     |▋                               | 61 kB 40.2 MB/s eta 0:00:01\r\u001b[K     |▊                               | 71 kB 27.6 MB/s eta 0:00:01\r\u001b[K     |▉                               | 81 kB 29.1 MB/s eta 0:00:01\r\u001b[K     |█                               | 92 kB 31.3 MB/s eta 0:00:01\r\u001b[K     |█                               | 102 kB 32.8 MB/s eta 0:00:01\r\u001b[K     |█▏                              | 112 kB 32.8 MB/s eta 0:00:01\r\u001b[K     |█▎                              | 122 kB 32.8 MB/s eta 0:00:01\r\u001b[K     |█▍                              | 133 kB 32.8 MB/s eta 0:00:01\r\u001b[K     |█▌                              | 143 kB 32.8 MB/s eta 0:00:01\r\u001b[K     |█▋                              | 153 kB 32.8 MB/s eta 0:00:01\r\u001b[K     |█▊                              | 163 kB 32.8 MB/s eta 0:00:01\r\u001b[K     |█▉                              | 174 kB 32.8 MB/s eta 0:00:01\r\u001b[K     |██                              | 184 kB 32.8 MB/s eta 0:00:01\r\u001b[K     |██                              | 194 kB 32.8 MB/s eta 0:00:01\r\u001b[K     |██▏                             | 204 kB 32.8 MB/s eta 0:00:01\r\u001b[K     |██▎                             | 215 kB 32.8 MB/s eta 0:00:01\r\u001b[K     |██▍                             | 225 kB 32.8 MB/s eta 0:00:01\r\u001b[K     |██▌                             | 235 kB 32.8 MB/s eta 0:00:01\r\u001b[K     |██▋                             | 245 kB 32.8 MB/s eta 0:00:01\r\u001b[K     |██▊                             | 256 kB 32.8 MB/s eta 0:00:01\r\u001b[K     |██▉                             | 266 kB 32.8 MB/s eta 0:00:01\r\u001b[K     |██▉                             | 276 kB 32.8 MB/s eta 0:00:01\r\u001b[K     |███                             | 286 kB 32.8 MB/s eta 0:00:01\r\u001b[K     |███                             | 296 kB 32.8 MB/s eta 0:00:01\r\u001b[K     |███▏                            | 307 kB 32.8 MB/s eta 0:00:01\r\u001b[K     |███▎                            | 317 kB 32.8 MB/s eta 0:00:01\r\u001b[K     |███▍                            | 327 kB 32.8 MB/s eta 0:00:01\r\u001b[K     |███▌                            | 337 kB 32.8 MB/s eta 0:00:01\r\u001b[K     |███▋                            | 348 kB 32.8 MB/s eta 0:00:01\r\u001b[K     |███▊                            | 358 kB 32.8 MB/s eta 0:00:01\r\u001b[K     |███▉                            | 368 kB 32.8 MB/s eta 0:00:01\r\u001b[K     |████                            | 378 kB 32.8 MB/s eta 0:00:01\r\u001b[K     |████                            | 389 kB 32.8 MB/s eta 0:00:01\r\u001b[K     |████▏                           | 399 kB 32.8 MB/s eta 0:00:01\r\u001b[K     |████▎                           | 409 kB 32.8 MB/s eta 0:00:01\r\u001b[K     |████▍                           | 419 kB 32.8 MB/s eta 0:00:01\r\u001b[K     |████▌                           | 430 kB 32.8 MB/s eta 0:00:01\r\u001b[K     |████▋                           | 440 kB 32.8 MB/s eta 0:00:01\r\u001b[K     |████▊                           | 450 kB 32.8 MB/s eta 0:00:01\r\u001b[K     |████▉                           | 460 kB 32.8 MB/s eta 0:00:01\r\u001b[K     |█████                           | 471 kB 32.8 MB/s eta 0:00:01\r\u001b[K     |█████                           | 481 kB 32.8 MB/s eta 0:00:01\r\u001b[K     |█████▏                          | 491 kB 32.8 MB/s eta 0:00:01\r\u001b[K     |█████▎                          | 501 kB 32.8 MB/s eta 0:00:01\r\u001b[K     |█████▍                          | 512 kB 32.8 MB/s eta 0:00:01\r\u001b[K     |█████▌                          | 522 kB 32.8 MB/s eta 0:00:01\r\u001b[K     |█████▋                          | 532 kB 32.8 MB/s eta 0:00:01\r\u001b[K     |█████▋                          | 542 kB 32.8 MB/s eta 0:00:01\r\u001b[K     |█████▊                          | 552 kB 32.8 MB/s eta 0:00:01\r\u001b[K     |█████▉                          | 563 kB 32.8 MB/s eta 0:00:01\r\u001b[K     |██████                          | 573 kB 32.8 MB/s eta 0:00:01\r\u001b[K     |██████                          | 583 kB 32.8 MB/s eta 0:00:01\r\u001b[K     |██████▏                         | 593 kB 32.8 MB/s eta 0:00:01\r\u001b[K     |██████▎                         | 604 kB 32.8 MB/s eta 0:00:01\r\u001b[K     |██████▍                         | 614 kB 32.8 MB/s eta 0:00:01\r\u001b[K     |██████▌                         | 624 kB 32.8 MB/s eta 0:00:01\r\u001b[K     |██████▋                         | 634 kB 32.8 MB/s eta 0:00:01\r\u001b[K     |██████▊                         | 645 kB 32.8 MB/s eta 0:00:01\r\u001b[K     |██████▉                         | 655 kB 32.8 MB/s eta 0:00:01\r\u001b[K     |███████                         | 665 kB 32.8 MB/s eta 0:00:01\r\u001b[K     |███████                         | 675 kB 32.8 MB/s eta 0:00:01\r\u001b[K     |███████▏                        | 686 kB 32.8 MB/s eta 0:00:01\r\u001b[K     |███████▎                        | 696 kB 32.8 MB/s eta 0:00:01\r\u001b[K     |███████▍                        | 706 kB 32.8 MB/s eta 0:00:01\r\u001b[K     |███████▌                        | 716 kB 32.8 MB/s eta 0:00:01\r\u001b[K     |███████▋                        | 727 kB 32.8 MB/s eta 0:00:01\r\u001b[K     |███████▊                        | 737 kB 32.8 MB/s eta 0:00:01\r\u001b[K     |███████▉                        | 747 kB 32.8 MB/s eta 0:00:01\r\u001b[K     |████████                        | 757 kB 32.8 MB/s eta 0:00:01\r\u001b[K     |████████                        | 768 kB 32.8 MB/s eta 0:00:01\r\u001b[K     |████████▏                       | 778 kB 32.8 MB/s eta 0:00:01\r\u001b[K     |████████▎                       | 788 kB 32.8 MB/s eta 0:00:01\r\u001b[K     |████████▍                       | 798 kB 32.8 MB/s eta 0:00:01\r\u001b[K     |████████▌                       | 808 kB 32.8 MB/s eta 0:00:01\r\u001b[K     |████████▌                       | 819 kB 32.8 MB/s eta 0:00:01\r\u001b[K     |████████▋                       | 829 kB 32.8 MB/s eta 0:00:01\r\u001b[K     |████████▊                       | 839 kB 32.8 MB/s eta 0:00:01\r\u001b[K     |████████▉                       | 849 kB 32.8 MB/s eta 0:00:01\r\u001b[K     |█████████                       | 860 kB 32.8 MB/s eta 0:00:01\r\u001b[K     |█████████                       | 870 kB 32.8 MB/s eta 0:00:01\r\u001b[K     |█████████▏                      | 880 kB 32.8 MB/s eta 0:00:01\r\u001b[K     |█████████▎                      | 890 kB 32.8 MB/s eta 0:00:01\r\u001b[K     |█████████▍                      | 901 kB 32.8 MB/s eta 0:00:01\r\u001b[K     |█████████▌                      | 911 kB 32.8 MB/s eta 0:00:01\r\u001b[K     |█████████▋                      | 921 kB 32.8 MB/s eta 0:00:01\r\u001b[K     |█████████▊                      | 931 kB 32.8 MB/s eta 0:00:01\r\u001b[K     |█████████▉                      | 942 kB 32.8 MB/s eta 0:00:01\r\u001b[K     |██████████                      | 952 kB 32.8 MB/s eta 0:00:01\r\u001b[K     |██████████                      | 962 kB 32.8 MB/s eta 0:00:01\r\u001b[K     |██████████▏                     | 972 kB 32.8 MB/s eta 0:00:01\r\u001b[K     |██████████▎                     | 983 kB 32.8 MB/s eta 0:00:01\r\u001b[K     |██████████▍                     | 993 kB 32.8 MB/s eta 0:00:01\r\u001b[K     |██████████▌                     | 1.0 MB 32.8 MB/s eta 0:00:01\r\u001b[K     |██████████▋                     | 1.0 MB 32.8 MB/s eta 0:00:01\r\u001b[K     |██████████▊                     | 1.0 MB 32.8 MB/s eta 0:00:01\r\u001b[K     |██████████▉                     | 1.0 MB 32.8 MB/s eta 0:00:01\r\u001b[K     |███████████                     | 1.0 MB 32.8 MB/s eta 0:00:01\r\u001b[K     |███████████                     | 1.1 MB 32.8 MB/s eta 0:00:01\r\u001b[K     |███████████▏                    | 1.1 MB 32.8 MB/s eta 0:00:01\r\u001b[K     |███████████▎                    | 1.1 MB 32.8 MB/s eta 0:00:01\r\u001b[K     |███████████▎                    | 1.1 MB 32.8 MB/s eta 0:00:01\r\u001b[K     |███████████▍                    | 1.1 MB 32.8 MB/s eta 0:00:01\r\u001b[K     |███████████▌                    | 1.1 MB 32.8 MB/s eta 0:00:01\r\u001b[K     |███████████▋                    | 1.1 MB 32.8 MB/s eta 0:00:01\r\u001b[K     |███████████▊                    | 1.1 MB 32.8 MB/s eta 0:00:01\r\u001b[K     |███████████▉                    | 1.1 MB 32.8 MB/s eta 0:00:01\r\u001b[K     |████████████                    | 1.1 MB 32.8 MB/s eta 0:00:01\r\u001b[K     |████████████                    | 1.2 MB 32.8 MB/s eta 0:00:01\r\u001b[K     |████████████▏                   | 1.2 MB 32.8 MB/s eta 0:00:01\r\u001b[K     |████████████▎                   | 1.2 MB 32.8 MB/s eta 0:00:01\r\u001b[K     |████████████▍                   | 1.2 MB 32.8 MB/s eta 0:00:01\r\u001b[K     |████████████▌                   | 1.2 MB 32.8 MB/s eta 0:00:01\r\u001b[K     |████████████▋                   | 1.2 MB 32.8 MB/s eta 0:00:01\r\u001b[K     |████████████▊                   | 1.2 MB 32.8 MB/s eta 0:00:01\r\u001b[K     |████████████▉                   | 1.2 MB 32.8 MB/s eta 0:00:01\r\u001b[K     |█████████████                   | 1.2 MB 32.8 MB/s eta 0:00:01\r\u001b[K     |█████████████                   | 1.2 MB 32.8 MB/s eta 0:00:01\r\u001b[K     |█████████████▏                  | 1.3 MB 32.8 MB/s eta 0:00:01\r\u001b[K     |█████████████▎                  | 1.3 MB 32.8 MB/s eta 0:00:01\r\u001b[K     |█████████████▍                  | 1.3 MB 32.8 MB/s eta 0:00:01\r\u001b[K     |█████████████▌                  | 1.3 MB 32.8 MB/s eta 0:00:01\r\u001b[K     |█████████████▋                  | 1.3 MB 32.8 MB/s eta 0:00:01\r\u001b[K     |█████████████▊                  | 1.3 MB 32.8 MB/s eta 0:00:01\r\u001b[K     |█████████████▉                  | 1.3 MB 32.8 MB/s eta 0:00:01\r\u001b[K     |██████████████                  | 1.3 MB 32.8 MB/s eta 0:00:01\r\u001b[K     |██████████████                  | 1.3 MB 32.8 MB/s eta 0:00:01\r\u001b[K     |██████████████                  | 1.4 MB 32.8 MB/s eta 0:00:01\r\u001b[K     |██████████████▏                 | 1.4 MB 32.8 MB/s eta 0:00:01\r\u001b[K     |██████████████▎                 | 1.4 MB 32.8 MB/s eta 0:00:01\r\u001b[K     |██████████████▍                 | 1.4 MB 32.8 MB/s eta 0:00:01\r\u001b[K     |██████████████▌                 | 1.4 MB 32.8 MB/s eta 0:00:01\r\u001b[K     |██████████████▋                 | 1.4 MB 32.8 MB/s eta 0:00:01\r\u001b[K     |██████████████▊                 | 1.4 MB 32.8 MB/s eta 0:00:01\r\u001b[K     |██████████████▉                 | 1.4 MB 32.8 MB/s eta 0:00:01\r\u001b[K     |███████████████                 | 1.4 MB 32.8 MB/s eta 0:00:01\r\u001b[K     |███████████████                 | 1.4 MB 32.8 MB/s eta 0:00:01\r\u001b[K     |███████████████▏                | 1.5 MB 32.8 MB/s eta 0:00:01\r\u001b[K     |███████████████▎                | 1.5 MB 32.8 MB/s eta 0:00:01\r\u001b[K     |███████████████▍                | 1.5 MB 32.8 MB/s eta 0:00:01\r\u001b[K     |███████████████▌                | 1.5 MB 32.8 MB/s eta 0:00:01\r\u001b[K     |███████████████▋                | 1.5 MB 32.8 MB/s eta 0:00:01\r\u001b[K     |███████████████▊                | 1.5 MB 32.8 MB/s eta 0:00:01\r\u001b[K     |███████████████▉                | 1.5 MB 32.8 MB/s eta 0:00:01\r\u001b[K     |████████████████                | 1.5 MB 32.8 MB/s eta 0:00:01\r\u001b[K     |████████████████                | 1.5 MB 32.8 MB/s eta 0:00:01\r\u001b[K     |████████████████▏               | 1.5 MB 32.8 MB/s eta 0:00:01\r\u001b[K     |████████████████▎               | 1.6 MB 32.8 MB/s eta 0:00:01\r\u001b[K     |████████████████▍               | 1.6 MB 32.8 MB/s eta 0:00:01\r\u001b[K     |████████████████▌               | 1.6 MB 32.8 MB/s eta 0:00:01\r\u001b[K     |████████████████▋               | 1.6 MB 32.8 MB/s eta 0:00:01\r\u001b[K     |████████████████▊               | 1.6 MB 32.8 MB/s eta 0:00:01\r\u001b[K     |████████████████▉               | 1.6 MB 32.8 MB/s eta 0:00:01\r\u001b[K     |█████████████████               | 1.6 MB 32.8 MB/s eta 0:00:01\r\u001b[K     |█████████████████               | 1.6 MB 32.8 MB/s eta 0:00:01\r\u001b[K     |█████████████████               | 1.6 MB 32.8 MB/s eta 0:00:01\r\u001b[K     |█████████████████▏              | 1.6 MB 32.8 MB/s eta 0:00:01\r\u001b[K     |█████████████████▎              | 1.7 MB 32.8 MB/s eta 0:00:01\r\u001b[K     |█████████████████▍              | 1.7 MB 32.8 MB/s eta 0:00:01\r\u001b[K     |█████████████████▌              | 1.7 MB 32.8 MB/s eta 0:00:01\r\u001b[K     |█████████████████▋              | 1.7 MB 32.8 MB/s eta 0:00:01\r\u001b[K     |█████████████████▊              | 1.7 MB 32.8 MB/s eta 0:00:01\r\u001b[K     |█████████████████▉              | 1.7 MB 32.8 MB/s eta 0:00:01\r\u001b[K     |██████████████████              | 1.7 MB 32.8 MB/s eta 0:00:01\r\u001b[K     |██████████████████              | 1.7 MB 32.8 MB/s eta 0:00:01\r\u001b[K     |██████████████████▏             | 1.7 MB 32.8 MB/s eta 0:00:01\r\u001b[K     |██████████████████▎             | 1.8 MB 32.8 MB/s eta 0:00:01\r\u001b[K     |██████████████████▍             | 1.8 MB 32.8 MB/s eta 0:00:01\r\u001b[K     |██████████████████▌             | 1.8 MB 32.8 MB/s eta 0:00:01\r\u001b[K     |██████████████████▋             | 1.8 MB 32.8 MB/s eta 0:00:01\r\u001b[K     |██████████████████▊             | 1.8 MB 32.8 MB/s eta 0:00:01\r\u001b[K     |██████████████████▉             | 1.8 MB 32.8 MB/s eta 0:00:01\r\u001b[K     |███████████████████             | 1.8 MB 32.8 MB/s eta 0:00:01\r\u001b[K     |███████████████████             | 1.8 MB 32.8 MB/s eta 0:00:01\r\u001b[K     |███████████████████▏            | 1.8 MB 32.8 MB/s eta 0:00:01\r\u001b[K     |███████████████████▎            | 1.8 MB 32.8 MB/s eta 0:00:01\r\u001b[K     |███████████████████▍            | 1.9 MB 32.8 MB/s eta 0:00:01\r\u001b[K     |███████████████████▌            | 1.9 MB 32.8 MB/s eta 0:00:01\r\u001b[K     |███████████████████▋            | 1.9 MB 32.8 MB/s eta 0:00:01\r\u001b[K     |███████████████████▊            | 1.9 MB 32.8 MB/s eta 0:00:01\r\u001b[K     |███████████████████▊            | 1.9 MB 32.8 MB/s eta 0:00:01\r\u001b[K     |███████████████████▉            | 1.9 MB 32.8 MB/s eta 0:00:01\r\u001b[K     |████████████████████            | 1.9 MB 32.8 MB/s eta 0:00:01\r\u001b[K     |████████████████████            | 1.9 MB 32.8 MB/s eta 0:00:01\r\u001b[K     |████████████████████▏           | 1.9 MB 32.8 MB/s eta 0:00:01\r\u001b[K     |████████████████████▎           | 1.9 MB 32.8 MB/s eta 0:00:01\r\u001b[K     |████████████████████▍           | 2.0 MB 32.8 MB/s eta 0:00:01\r\u001b[K     |████████████████████▌           | 2.0 MB 32.8 MB/s eta 0:00:01\r\u001b[K     |████████████████████▋           | 2.0 MB 32.8 MB/s eta 0:00:01\r\u001b[K     |████████████████████▊           | 2.0 MB 32.8 MB/s eta 0:00:01\r\u001b[K     |████████████████████▉           | 2.0 MB 32.8 MB/s eta 0:00:01\r\u001b[K     |█████████████████████           | 2.0 MB 32.8 MB/s eta 0:00:01\r\u001b[K     |█████████████████████           | 2.0 MB 32.8 MB/s eta 0:00:01\r\u001b[K     |█████████████████████▏          | 2.0 MB 32.8 MB/s eta 0:00:01\r\u001b[K     |█████████████████████▎          | 2.0 MB 32.8 MB/s eta 0:00:01\r\u001b[K     |█████████████████████▍          | 2.0 MB 32.8 MB/s eta 0:00:01\r\u001b[K     |█████████████████████▌          | 2.1 MB 32.8 MB/s eta 0:00:01\r\u001b[K     |█████████████████████▋          | 2.1 MB 32.8 MB/s eta 0:00:01\r\u001b[K     |█████████████████████▊          | 2.1 MB 32.8 MB/s eta 0:00:01\r\u001b[K     |█████████████████████▉          | 2.1 MB 32.8 MB/s eta 0:00:01\r\u001b[K     |██████████████████████          | 2.1 MB 32.8 MB/s eta 0:00:01\r\u001b[K     |██████████████████████          | 2.1 MB 32.8 MB/s eta 0:00:01\r\u001b[K     |██████████████████████▏         | 2.1 MB 32.8 MB/s eta 0:00:01\r\u001b[K     |██████████████████████▎         | 2.1 MB 32.8 MB/s eta 0:00:01\r\u001b[K     |██████████████████████▍         | 2.1 MB 32.8 MB/s eta 0:00:01\r\u001b[K     |██████████████████████▌         | 2.2 MB 32.8 MB/s eta 0:00:01\r\u001b[K     |██████████████████████▋         | 2.2 MB 32.8 MB/s eta 0:00:01\r\u001b[K     |██████████████████████▋         | 2.2 MB 32.8 MB/s eta 0:00:01\r\u001b[K     |██████████████████████▊         | 2.2 MB 32.8 MB/s eta 0:00:01\r\u001b[K     |██████████████████████▉         | 2.2 MB 32.8 MB/s eta 0:00:01\r\u001b[K     |███████████████████████         | 2.2 MB 32.8 MB/s eta 0:00:01\r\u001b[K     |███████████████████████         | 2.2 MB 32.8 MB/s eta 0:00:01\r\u001b[K     |███████████████████████▏        | 2.2 MB 32.8 MB/s eta 0:00:01\r\u001b[K     |███████████████████████▎        | 2.2 MB 32.8 MB/s eta 0:00:01\r\u001b[K     |███████████████████████▍        | 2.2 MB 32.8 MB/s eta 0:00:01\r\u001b[K     |███████████████████████▌        | 2.3 MB 32.8 MB/s eta 0:00:01\r\u001b[K     |███████████████████████▋        | 2.3 MB 32.8 MB/s eta 0:00:01\r\u001b[K     |███████████████████████▊        | 2.3 MB 32.8 MB/s eta 0:00:01\r\u001b[K     |███████████████████████▉        | 2.3 MB 32.8 MB/s eta 0:00:01\r\u001b[K     |████████████████████████        | 2.3 MB 32.8 MB/s eta 0:00:01\r\u001b[K     |████████████████████████        | 2.3 MB 32.8 MB/s eta 0:00:01\r\u001b[K     |████████████████████████▏       | 2.3 MB 32.8 MB/s eta 0:00:01\r\u001b[K     |████████████████████████▎       | 2.3 MB 32.8 MB/s eta 0:00:01\r\u001b[K     |████████████████████████▍       | 2.3 MB 32.8 MB/s eta 0:00:01\r\u001b[K     |████████████████████████▌       | 2.3 MB 32.8 MB/s eta 0:00:01\r\u001b[K     |████████████████████████▋       | 2.4 MB 32.8 MB/s eta 0:00:01\r\u001b[K     |████████████████████████▊       | 2.4 MB 32.8 MB/s eta 0:00:01\r\u001b[K     |████████████████████████▉       | 2.4 MB 32.8 MB/s eta 0:00:01\r\u001b[K     |█████████████████████████       | 2.4 MB 32.8 MB/s eta 0:00:01\r\u001b[K     |█████████████████████████       | 2.4 MB 32.8 MB/s eta 0:00:01\r\u001b[K     |█████████████████████████▏      | 2.4 MB 32.8 MB/s eta 0:00:01\r\u001b[K     |█████████████████████████▎      | 2.4 MB 32.8 MB/s eta 0:00:01\r\u001b[K     |█████████████████████████▍      | 2.4 MB 32.8 MB/s eta 0:00:01\r\u001b[K     |█████████████████████████▍      | 2.4 MB 32.8 MB/s eta 0:00:01\r\u001b[K     |█████████████████████████▌      | 2.4 MB 32.8 MB/s eta 0:00:01\r\u001b[K     |█████████████████████████▋      | 2.5 MB 32.8 MB/s eta 0:00:01\r\u001b[K     |█████████████████████████▊      | 2.5 MB 32.8 MB/s eta 0:00:01\r\u001b[K     |█████████████████████████▉      | 2.5 MB 32.8 MB/s eta 0:00:01\r\u001b[K     |██████████████████████████      | 2.5 MB 32.8 MB/s eta 0:00:01\r\u001b[K     |██████████████████████████      | 2.5 MB 32.8 MB/s eta 0:00:01\r\u001b[K     |██████████████████████████▏     | 2.5 MB 32.8 MB/s eta 0:00:01\r\u001b[K     |██████████████████████████▎     | 2.5 MB 32.8 MB/s eta 0:00:01\r\u001b[K     |██████████████████████████▍     | 2.5 MB 32.8 MB/s eta 0:00:01\r\u001b[K     |██████████████████████████▌     | 2.5 MB 32.8 MB/s eta 0:00:01\r\u001b[K     |██████████████████████████▋     | 2.5 MB 32.8 MB/s eta 0:00:01\r\u001b[K     |██████████████████████████▊     | 2.6 MB 32.8 MB/s eta 0:00:01\r\u001b[K     |██████████████████████████▉     | 2.6 MB 32.8 MB/s eta 0:00:01\r\u001b[K     |███████████████████████████     | 2.6 MB 32.8 MB/s eta 0:00:01\r\u001b[K     |███████████████████████████     | 2.6 MB 32.8 MB/s eta 0:00:01\r\u001b[K     |███████████████████████████▏    | 2.6 MB 32.8 MB/s eta 0:00:01\r\u001b[K     |███████████████████████████▎    | 2.6 MB 32.8 MB/s eta 0:00:01\r\u001b[K     |███████████████████████████▍    | 2.6 MB 32.8 MB/s eta 0:00:01\r\u001b[K     |███████████████████████████▌    | 2.6 MB 32.8 MB/s eta 0:00:01\r\u001b[K     |███████████████████████████▋    | 2.6 MB 32.8 MB/s eta 0:00:01\r\u001b[K     |███████████████████████████▊    | 2.7 MB 32.8 MB/s eta 0:00:01\r\u001b[K     |███████████████████████████▉    | 2.7 MB 32.8 MB/s eta 0:00:01\r\u001b[K     |████████████████████████████    | 2.7 MB 32.8 MB/s eta 0:00:01\r\u001b[K     |████████████████████████████    | 2.7 MB 32.8 MB/s eta 0:00:01\r\u001b[K     |████████████████████████████▏   | 2.7 MB 32.8 MB/s eta 0:00:01\r\u001b[K     |████████████████████████████▏   | 2.7 MB 32.8 MB/s eta 0:00:01\r\u001b[K     |████████████████████████████▎   | 2.7 MB 32.8 MB/s eta 0:00:01\r\u001b[K     |████████████████████████████▍   | 2.7 MB 32.8 MB/s eta 0:00:01\r\u001b[K     |████████████████████████████▌   | 2.7 MB 32.8 MB/s eta 0:00:01\r\u001b[K     |████████████████████████████▋   | 2.7 MB 32.8 MB/s eta 0:00:01\r\u001b[K     |████████████████████████████▊   | 2.8 MB 32.8 MB/s eta 0:00:01\r\u001b[K     |████████████████████████████▉   | 2.8 MB 32.8 MB/s eta 0:00:01\r\u001b[K     |█████████████████████████████   | 2.8 MB 32.8 MB/s eta 0:00:01\r\u001b[K     |█████████████████████████████   | 2.8 MB 32.8 MB/s eta 0:00:01\r\u001b[K     |█████████████████████████████▏  | 2.8 MB 32.8 MB/s eta 0:00:01\r\u001b[K     |█████████████████████████████▎  | 2.8 MB 32.8 MB/s eta 0:00:01\r\u001b[K     |█████████████████████████████▍  | 2.8 MB 32.8 MB/s eta 0:00:01\r\u001b[K     |█████████████████████████████▌  | 2.8 MB 32.8 MB/s eta 0:00:01\r\u001b[K     |█████████████████████████████▋  | 2.8 MB 32.8 MB/s eta 0:00:01\r\u001b[K     |█████████████████████████████▊  | 2.8 MB 32.8 MB/s eta 0:00:01\r\u001b[K     |█████████████████████████████▉  | 2.9 MB 32.8 MB/s eta 0:00:01\r\u001b[K     |██████████████████████████████  | 2.9 MB 32.8 MB/s eta 0:00:01\r\u001b[K     |██████████████████████████████  | 2.9 MB 32.8 MB/s eta 0:00:01\r\u001b[K     |██████████████████████████████▏ | 2.9 MB 32.8 MB/s eta 0:00:01\r\u001b[K     |██████████████████████████████▎ | 2.9 MB 32.8 MB/s eta 0:00:01\r\u001b[K     |██████████████████████████████▍ | 2.9 MB 32.8 MB/s eta 0:00:01\r\u001b[K     |██████████████████████████████▌ | 2.9 MB 32.8 MB/s eta 0:00:01\r\u001b[K     |██████████████████████████████▋ | 2.9 MB 32.8 MB/s eta 0:00:01\r\u001b[K     |██████████████████████████████▊ | 2.9 MB 32.8 MB/s eta 0:00:01\r\u001b[K     |██████████████████████████████▉ | 2.9 MB 32.8 MB/s eta 0:00:01\r\u001b[K     |███████████████████████████████ | 3.0 MB 32.8 MB/s eta 0:00:01\r\u001b[K     |███████████████████████████████ | 3.0 MB 32.8 MB/s eta 0:00:01\r\u001b[K     |███████████████████████████████ | 3.0 MB 32.8 MB/s eta 0:00:01\r\u001b[K     |███████████████████████████████▏| 3.0 MB 32.8 MB/s eta 0:00:01\r\u001b[K     |███████████████████████████████▎| 3.0 MB 32.8 MB/s eta 0:00:01\r\u001b[K     |███████████████████████████████▍| 3.0 MB 32.8 MB/s eta 0:00:01\r\u001b[K     |███████████████████████████████▌| 3.0 MB 32.8 MB/s eta 0:00:01\r\u001b[K     |███████████████████████████████▋| 3.0 MB 32.8 MB/s eta 0:00:01\r\u001b[K     |███████████████████████████████▊| 3.0 MB 32.8 MB/s eta 0:00:01\r\u001b[K     |███████████████████████████████▉| 3.1 MB 32.8 MB/s eta 0:00:01\r\u001b[K     |████████████████████████████████| 3.1 MB 32.8 MB/s eta 0:00:01\r\u001b[K     |████████████████████████████████| 3.1 MB 32.8 MB/s \n",
            "\u001b[?25hInstalling collected packages: Pillow\n",
            "  Attempting uninstall: Pillow\n",
            "    Found existing installation: Pillow 7.1.2\n",
            "    Uninstalling Pillow-7.1.2:\n",
            "      Successfully uninstalled Pillow-7.1.2\n",
            "\u001b[31mERROR: pip's dependency resolver does not currently take into account all the packages that are installed. This behaviour is the source of the following dependency conflicts.\n",
            "albumentations 0.1.12 requires imgaug<0.2.7,>=0.2.5, but you have imgaug 0.2.9 which is incompatible.\u001b[0m\n",
            "Successfully installed Pillow-8.4.0\n"
          ]
        },
        {
          "output_type": "display_data",
          "data": {
            "application/vnd.colab-display-data+json": {
              "pip_warning": {
                "packages": [
                  "PIL"
                ]
              }
            }
          },
          "metadata": {}
        },
        {
          "output_type": "stream",
          "name": "stdout",
          "text": [
            "Collecting scikit_learn==1.0.1\n",
            "  Downloading scikit_learn-1.0.1-cp37-cp37m-manylinux_2_12_x86_64.manylinux2010_x86_64.whl (23.2 MB)\n",
            "\u001b[K     |████████████████████████████████| 23.2 MB 91.8 MB/s \n",
            "\u001b[?25hRequirement already satisfied: threadpoolctl>=2.0.0 in /usr/local/lib/python3.7/dist-packages (from scikit_learn==1.0.1) (3.0.0)\n",
            "Requirement already satisfied: joblib>=0.11 in /usr/local/lib/python3.7/dist-packages (from scikit_learn==1.0.1) (1.1.0)\n",
            "Requirement already satisfied: numpy>=1.14.6 in /usr/local/lib/python3.7/dist-packages (from scikit_learn==1.0.1) (1.19.4)\n",
            "Requirement already satisfied: scipy>=1.1.0 in /usr/local/lib/python3.7/dist-packages (from scikit_learn==1.0.1) (1.4.1)\n",
            "Installing collected packages: scikit-learn\n",
            "  Attempting uninstall: scikit-learn\n",
            "    Found existing installation: scikit-learn 1.0.2\n",
            "    Uninstalling scikit-learn-1.0.2:\n",
            "      Successfully uninstalled scikit-learn-1.0.2\n",
            "Successfully installed scikit-learn-1.0.1\n",
            "Collecting torch==1.7.0\n",
            "  Downloading torch-1.7.0-cp37-cp37m-manylinux1_x86_64.whl (776.7 MB)\n",
            "\u001b[K     |████████████████████████████████| 776.7 MB 4.4 kB/s \n",
            "\u001b[?25hCollecting dataclasses\n",
            "  Downloading dataclasses-0.6-py3-none-any.whl (14 kB)\n",
            "Requirement already satisfied: numpy in /usr/local/lib/python3.7/dist-packages (from torch==1.7.0) (1.19.4)\n",
            "Requirement already satisfied: future in /usr/local/lib/python3.7/dist-packages (from torch==1.7.0) (0.16.0)\n",
            "Requirement already satisfied: typing-extensions in /usr/local/lib/python3.7/dist-packages (from torch==1.7.0) (3.10.0.2)\n",
            "Installing collected packages: dataclasses, torch\n",
            "  Attempting uninstall: torch\n",
            "    Found existing installation: torch 1.10.0+cu111\n",
            "    Uninstalling torch-1.10.0+cu111:\n",
            "      Successfully uninstalled torch-1.10.0+cu111\n",
            "\u001b[31mERROR: pip's dependency resolver does not currently take into account all the packages that are installed. This behaviour is the source of the following dependency conflicts.\n",
            "torchvision 0.11.1+cu111 requires torch==1.10.0, but you have torch 1.7.0 which is incompatible.\n",
            "torchtext 0.11.0 requires torch==1.10.0, but you have torch 1.7.0 which is incompatible.\n",
            "torchaudio 0.10.0+cu111 requires torch==1.10.0, but you have torch 1.7.0 which is incompatible.\u001b[0m\n",
            "Successfully installed dataclasses-0.6 torch-1.7.0\n",
            "Collecting torchvision==0.8.1\n",
            "  Downloading torchvision-0.8.1-cp37-cp37m-manylinux1_x86_64.whl (12.7 MB)\n",
            "\u001b[K     |████████████████████████████████| 12.7 MB 26.9 MB/s \n",
            "\u001b[?25hRequirement already satisfied: numpy in /usr/local/lib/python3.7/dist-packages (from torchvision==0.8.1) (1.19.4)\n",
            "Requirement already satisfied: pillow>=4.1.1 in /usr/local/lib/python3.7/dist-packages (from torchvision==0.8.1) (8.4.0)\n",
            "Requirement already satisfied: torch==1.7.0 in /usr/local/lib/python3.7/dist-packages (from torchvision==0.8.1) (1.7.0)\n",
            "Requirement already satisfied: future in /usr/local/lib/python3.7/dist-packages (from torch==1.7.0->torchvision==0.8.1) (0.16.0)\n",
            "Requirement already satisfied: dataclasses in /usr/local/lib/python3.7/dist-packages (from torch==1.7.0->torchvision==0.8.1) (0.6)\n",
            "Requirement already satisfied: typing-extensions in /usr/local/lib/python3.7/dist-packages (from torch==1.7.0->torchvision==0.8.1) (3.10.0.2)\n",
            "Installing collected packages: torchvision\n",
            "  Attempting uninstall: torchvision\n",
            "    Found existing installation: torchvision 0.11.1+cu111\n",
            "    Uninstalling torchvision-0.11.1+cu111:\n",
            "      Successfully uninstalled torchvision-0.11.1+cu111\n",
            "Successfully installed torchvision-0.8.1\n",
            "Collecting tqdm==4.48.2\n",
            "  Downloading tqdm-4.48.2-py2.py3-none-any.whl (68 kB)\n",
            "\u001b[K     |████████████████████████████████| 68 kB 6.4 MB/s \n",
            "\u001b[?25hInstalling collected packages: tqdm\n",
            "  Attempting uninstall: tqdm\n",
            "    Found existing installation: tqdm 4.62.3\n",
            "    Uninstalling tqdm-4.62.3:\n",
            "      Successfully uninstalled tqdm-4.62.3\n",
            "\u001b[31mERROR: pip's dependency resolver does not currently take into account all the packages that are installed. This behaviour is the source of the following dependency conflicts.\n",
            "torchtext 0.11.0 requires torch==1.10.0, but you have torch 1.7.0 which is incompatible.\u001b[0m\n",
            "Successfully installed tqdm-4.48.2\n"
          ]
        }
      ]
    },
    {
      "cell_type": "code",
      "source": [
        "#GeM implementation\n",
        "!git clone https://github.com/Natolss/2_Gem.git\n",
        "!mv \"2_Gem\" \"drive/MyDrive\""
      ],
      "metadata": {
        "id": "Oibh_PcM9K5T",
        "colab": {
          "base_uri": "https://localhost:8080/"
        },
        "outputId": "7dd3f900-4798-4519-d334-7e37b2b9a8e5"
      },
      "execution_count": 5,
      "outputs": [
        {
          "output_type": "stream",
          "name": "stdout",
          "text": [
            "Cloning into '2_Gem'...\n",
            "remote: Enumerating objects: 34, done.\u001b[K\n",
            "remote: Counting objects: 100% (34/34), done.\u001b[K\n",
            "remote: Compressing objects: 100% (32/32), done.\u001b[K\n",
            "remote: Total 34 (delta 9), reused 0 (delta 0), pack-reused 0\u001b[K\n",
            "Unpacking objects: 100% (34/34), done.\n"
          ]
        }
      ]
    },
    {
      "cell_type": "code",
      "source": [
        "%cd \"/content/drive/MyDrive/2_Gem\""
      ],
      "metadata": {
        "id": "UUuPtuoN9NFR",
        "colab": {
          "base_uri": "https://localhost:8080/"
        },
        "outputId": "abe7e0f2-cd9c-4b04-8877-f5c37403d3b3"
      },
      "execution_count": 6,
      "outputs": [
        {
          "output_type": "stream",
          "name": "stdout",
          "text": [
            "/content/drive/MyDrive/2_Gem\n"
          ]
        }
      ]
    },
    {
      "cell_type": "code",
      "source": [
        "!pwd"
      ],
      "metadata": {
        "id": "vrzOM2dH9PiW",
        "colab": {
          "base_uri": "https://localhost:8080/"
        },
        "outputId": "0b54611f-a784-48c8-a91d-3b2b7c116054"
      },
      "execution_count": 7,
      "outputs": [
        {
          "output_type": "stream",
          "name": "stdout",
          "text": [
            "/content/drive/MyDrive/2_Gem\n"
          ]
        }
      ]
    },
    {
      "cell_type": "code",
      "source": [
        "!python \"real_test.py\" --datasets_folder \"/content/pitts30k\""
      ],
      "metadata": {
        "id": "I_1vpbkQ9QMZ",
        "colab": {
          "base_uri": "https://localhost:8080/"
        },
        "outputId": "ff4c9fd6-e6a2-4656-cfe6-b5c312e56584"
      },
      "execution_count": 15,
      "outputs": [
        {
          "output_type": "stream",
          "name": "stdout",
          "text": [
            "2022-01-14 22:14:01   Arguments: Namespace(cache_refresh_rate=1000, datasets_folder='/content/pitts30k', device='cuda', epochs_num=50, exp_name='default', infer_batch_size=16, lr=1e-05, margin=0.1, neg_samples_num=1000, negs_num_per_query=10, num_workers=8, output_folder='runs/default/2022-01-14_22-14-01', patience=2, queries_per_epoch=5000, recall_values=[1, 5, 10, 20], seed=0, train_batch_size=4, train_positives_dist_threshold=8, val_positive_dist_threshold=25)\n",
            "2022-01-14 22:14:01   The outputs are being saved in runs/default/2022-01-14_22-14-01\n",
            "2022-01-14 22:14:01   Using 1 GPUs and 2 CPUs\n",
            "2022-01-14 22:14:01   Loading dataset Pitts30k from folder /content/pitts30k\n",
            "2022-01-14 22:14:01   Test set: < BaseDataset, pitts30k - #database: 10000; #queries: 6816 >\n",
            "2022-01-14 22:14:02   Train only conv4 of the ResNet-18 (remove conv5), freeze the previous ones\n",
            "2022-01-14 22:14:05   Extracting database features for evaluation/testing\n",
            "100%|█████████████████████████████████████████████████████████████| 625/625 [01:43<00:00,  6.02it/s]\n",
            "2022-01-14 22:15:49   Extracting queries features for evaluation/testing\n",
            "100%|█████████████████████████████████████████████████████████████| 426/426 [01:11<00:00,  5.97it/s]\n",
            "2022-01-14 22:17:00   Calculating recalls\n",
            "2022-01-14 22:17:01   Recalls on < BaseDataset, pitts30k - #database: 10000; #queries: 6816 >: R@1: 69.4, R@5: 85.4, R@10: 90.7, R@20: 93.7\n"
          ]
        }
      ]
    }
  ]
}